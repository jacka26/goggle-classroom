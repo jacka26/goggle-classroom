{
  "nbformat": 4,
  "nbformat_minor": 0,
  "metadata": {
    "colab": {
      "provenance": []
    },
    "kernelspec": {
      "name": "python3",
      "display_name": "Python 3"
    },
    "language_info": {
      "name": "python"
    }
  },
  "cells": [
    {
      "cell_type": "code",
      "execution_count": null,
      "metadata": {
        "id": "t5VdD0SEh7_g"
      },
      "outputs": [],
      "source": [
        "import pandas as pd\n",
        "import matplotlib.pyplot as plt\n",
        "from scipy import interpolate\n",
        "from google.colab import files\n",
        "from sklearn.linear_model import LinearRegression\n",
        "\n",
        "x = Year\n",
        "y = Population\n",
        "\n",
        "def display_menu():\n",
        "    \"Display the menu for user selection.\"\n",
        "    print(\"\\nSelect an option:\")\n",
        "    print(\"1. Perform data extrapolation to estimate the population after 20 years.\")\n",
        "    print(\"2. Display a bar graph showing the population trend over the years.\")\n",
        "    print(\"3. Display a line graph showing the population trend over the years without data extrapolation.\")\n",
        "\n",
        "def extrapolate(data, future_year):\n",
        "    \"Extrapolate the population data for a given number of years.\"\n",
        "    model = LinearRegression().fit(data[['Year']], data['Population'])\n",
        "    X_new = [[future_year]]\n",
        "    population = model.predict(X_new)\n",
        "    conf_int = (population - model.intercept_[0]) / model.coef_[0][0] \\\n",
        "               * np.array([-1, 1]) * 1.96 + population\n",
        "    return population[0], conf_int\n",
        "\n",
        "def extrapolate_population(data):\n",
        "    \"Extrapolate the population data for 20 years and display the result.\"\n",
        "    future_year = data['Year'].max() + 20\n",
        "    population, conf_int = extrapolate(data, future_year)\n",
        "    print(f\"\\nEstimated population in {future_year}: {population} with a 95% confidence interval of {conf_int}.\")\n",
        "\n",
        "def display_bar_graph(data):\n",
        "    \"Display a bar graph showing the population trend over the years.\"\n",
        "    plt.bar(data['Year'], data['Population'])\n",
        "    plt.xlabel('Year')\n",
        "    plt.ylabel('Population')\n",
        "    plt.title('Population Trend Over the Years')\n",
        "    plt.show()\n",
        "\n",
        "def display_line_graph(data):\n",
        "    \"Display a line graph showing the population trend over the years without data extrapolation.\"\n",
        "    plt.plot(data['Year'], data['Population'])\n",
        "    plt.xlabel('Year')\n",
        "    plt.ylabel('Population')\n",
        "    plt.title('Population Trend Over the Years')\n",
        "    plt.show()\n",
        "\n",
        "if __name__ == \"__main__\":\n",
        "    while True:\n",
        "        uploaded = files.upload()\n",
        "        display_menu()\n",
        "        choice = int(input(\"Enter your choice (1/2/3): \"))\n",
        "        if choice == 1:\n",
        "          filename = next(iter(uploaded.keys()))\n",
        "        extrapolate_population(pd.read_csv(filename))\n",
        "        elif choice == 2:\n",
        "            display_bar_graph(pd.read_csv(next(iter(uploaded.values()))))\n",
        "        elif choice == 3:\n",
        "            display_line_graph(pd.read_csv(next(iter(uploaded.values()))))\n",
        "        else:\n",
        "            print(\"Invalid choice. Please enter 1, 2, or 3.\")\n",
        "        break"
      ]
    }
  ]
}